{
 "cells": [
  {
   "cell_type": "markdown",
   "id": "340b626e",
   "metadata": {},
   "source": [
    "***Question***\n",
    "\n",
    "Given an array of points where points[i] = [xi, yi] represents a point on the X-Y plane, return the maximum number of points that lie on the same straight line.\n",
    "\n",
    "**Eg**: \n",
    "\n",
    "Input: points = [[1,1],[2,2],[3,3]]\n",
    "\n",
    "Output: 3\n"
   ]
  },
  {
   "cell_type": "code",
   "execution_count": 1,
   "id": "a25cb384",
   "metadata": {},
   "outputs": [],
   "source": [
    "\n",
    "def maxPoints(points):\n",
    "    lines=[]\n",
    "    for i in range(len(points)-2):\n",
    "        nrs_line= 2\n",
    "        point1= points[i]\n",
    "        point2= points[i+1]\n",
    "    \n",
    "        if point1[0] != point2[0] and point1[1] != point2[1]:\n",
    "            slope = (point1[1] - point2[1]) / (point1[0] - point2[0])\n",
    "            intercept = point1[1] - (slope * point1[0])\n",
    "\n",
    "            def is_in_line(point):\n",
    "                return point[1] == slope * point[0] + intercept  # Fixed the logic here\n",
    "\n",
    "        elif point1[0] == point2[0] and point1[1] != point2[1]:\n",
    "            ver = point1[0]  # Use the x-coordinate for a vertical line\n",
    "\n",
    "            def is_in_line(point):\n",
    "                return point[0] == ver  # Corrected the syntax here\n",
    "\n",
    "        elif point1[0] != point2[0] and point1[1] == point2[1]:\n",
    "            hor = point1[1]  # Use the y-coordinate for a horizontal line\n",
    "\n",
    "            def is_in_line(point):\n",
    "                return point[1] == hor  # Corrected the syntax here \n",
    "\n",
    "    \n",
    "   \n",
    "        for j in points:\n",
    "            if is_in_line(j) and j != point1 and j != point2: \n",
    "                nrs_line+=1\n",
    "        lines.append(nrs_line)\n",
    "    \n",
    "    return max(lines) if lines else len(points) if points else 0\n",
    "            \n",
    "        \n",
    "        "
   ]
  },
  {
   "cell_type": "code",
   "execution_count": 2,
   "id": "8a31166f",
   "metadata": {},
   "outputs": [
    {
     "data": {
      "text/plain": [
       "3"
      ]
     },
     "execution_count": 2,
     "metadata": {},
     "output_type": "execute_result"
    }
   ],
   "source": [
    "points=[[-6,-1],[3,1],[12,3]]\n",
    "maxPoints(points)"
   ]
  },
  {
   "cell_type": "code",
   "execution_count": 3,
   "id": "717d8a27",
   "metadata": {},
   "outputs": [
    {
     "data": {
      "text/plain": [
       "2"
      ]
     },
     "execution_count": 3,
     "metadata": {},
     "output_type": "execute_result"
    }
   ],
   "source": [
    "points=[[0,-1],[0,0]]\n",
    "maxPoints(points)"
   ]
  },
  {
   "cell_type": "code",
   "execution_count": 4,
   "id": "368ecdc5",
   "metadata": {},
   "outputs": [
    {
     "data": {
      "text/plain": [
       "3"
      ]
     },
     "execution_count": 4,
     "metadata": {},
     "output_type": "execute_result"
    }
   ],
   "source": [
    "points=[[1,1],[2,2],[3,3]]\n",
    "maxPoints(points)"
   ]
  },
  {
   "cell_type": "code",
   "execution_count": 5,
   "id": "4fc602da",
   "metadata": {},
   "outputs": [
    {
     "data": {
      "text/plain": [
       "6"
      ]
     },
     "execution_count": 5,
     "metadata": {},
     "output_type": "execute_result"
    }
   ],
   "source": [
    "points=[[1,1],[2,2],[3,3],[4,4],[8,-99],[9,-99],[10,-99],[99,-99],[822,-99],[23,-99]]\n",
    "maxPoints(points)"
   ]
  }
 ],
 "metadata": {
  "kernelspec": {
   "display_name": "Python 3 (ipykernel)",
   "language": "python",
   "name": "python3"
  },
  "language_info": {
   "codemirror_mode": {
    "name": "ipython",
    "version": 3
   },
   "file_extension": ".py",
   "mimetype": "text/x-python",
   "name": "python",
   "nbconvert_exporter": "python",
   "pygments_lexer": "ipython3",
   "version": "3.11.5"
  }
 },
 "nbformat": 4,
 "nbformat_minor": 5
}
