{
 "cells": [
  {
   "cell_type": "code",
   "execution_count": 1,
   "id": "9857e3e5",
   "metadata": {},
   "outputs": [],
   "source": [
    "# Integer to Roman Number\n",
    "#Min number = 1 , max number =3999"
   ]
  },
  {
   "cell_type": "code",
   "execution_count": 2,
   "id": "aa45ceec",
   "metadata": {},
   "outputs": [],
   "source": [
    "def intToRoman(number):\n",
    "    Roman2=[]\n",
    "    numberlist=list(str(number))\n",
    "    Roman=[]\n",
    "    for i in numberlist: \n",
    "        Roman.append(int(i))\n",
    "\n",
    "    LenRom2=len(Roman)\n",
    "\n",
    "    for i in Roman:\n",
    "        if LenRom2>3: \n",
    "            if i == 1:\n",
    "                Roman2.append(\"M\")\n",
    "            if i == 2:\n",
    "                Roman2.append(\"MM\")\n",
    "            if i == 3:\n",
    "                Roman2.append(\"MMM\")\n",
    "        if LenRom2==3: \n",
    "            if i == 1:\n",
    "                Roman2.append(\"C\")\n",
    "            if i == 2:\n",
    "                Roman2.append(\"CC\")\n",
    "            if i == 3:\n",
    "                Roman2.append(\"CCC\")\n",
    "            if i == 4:\n",
    "                Roman2.append(\"CD\")\n",
    "            if i == 5:\n",
    "                Roman2.append(\"D\")\n",
    "            if i == 6:\n",
    "                Roman2.append(\"DC\")\n",
    "            if i == 7:\n",
    "                Roman2.append(\"DCC\")\n",
    "            if i == 8:\n",
    "                Roman2.append(\"DCCC\")\n",
    "            if i == 9:\n",
    "                Roman2.append(\"CM\")\n",
    "        if LenRom2==2: \n",
    "            if i == 1:\n",
    "                Roman2.append(\"X\")\n",
    "            if i == 2:\n",
    "                Roman2.append(\"XX\")\n",
    "            if i == 3:\n",
    "                Roman2.append(\"XXX\")\n",
    "            if i == 4:\n",
    "                Roman2.append(\"XL\")\n",
    "            if i == 5:\n",
    "                Roman2.append(\"L\")\n",
    "            if i == 6:\n",
    "                Roman2.append(\"LX\")\n",
    "            if i == 7:\n",
    "                Roman2.append(\"LXX\")\n",
    "            if i == 8:\n",
    "                Roman2.append(\"LXXX\")\n",
    "            if i == 9:\n",
    "                Roman2.append(\"XC\")\n",
    "        if LenRom2==1: \n",
    "            if i == 1:\n",
    "                Roman2.append(\"I\")\n",
    "            if i == 2:\n",
    "                Roman2.append(\"II\")\n",
    "            if i == 3:\n",
    "                Roman2.append(\"III\")\n",
    "            if i == 4:\n",
    "                Roman2.append(\"IV\")\n",
    "            if i == 5:\n",
    "                Roman2.append(\"V\")\n",
    "            if i == 6:\n",
    "                Roman2.append(\"VI\")\n",
    "            if i == 7:\n",
    "                Roman2.append(\"VII\")\n",
    "            if i == 8:\n",
    "                Roman2.append(\"VIII\")\n",
    "            if i == 9:\n",
    "                Roman2.append(\"IX\")\n",
    "        LenRom2-=1\n",
    "\n",
    "\n",
    "    return\"\".join(Roman2)"
   ]
  },
  {
   "cell_type": "code",
   "execution_count": 3,
   "id": "1cecb245",
   "metadata": {},
   "outputs": [
    {
     "data": {
      "text/plain": [
       "'MMMCMXCIX'"
      ]
     },
     "execution_count": 3,
     "metadata": {},
     "output_type": "execute_result"
    }
   ],
   "source": [
    "intToRoman(3999)"
   ]
  }
 ],
 "metadata": {
  "kernelspec": {
   "display_name": "Python 3 (ipykernel)",
   "language": "python",
   "name": "python3"
  },
  "language_info": {
   "codemirror_mode": {
    "name": "ipython",
    "version": 3
   },
   "file_extension": ".py",
   "mimetype": "text/x-python",
   "name": "python",
   "nbconvert_exporter": "python",
   "pygments_lexer": "ipython3",
   "version": "3.11.5"
  }
 },
 "nbformat": 4,
 "nbformat_minor": 5
}
