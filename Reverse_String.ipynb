{
 "cells": [
  {
   "cell_type": "code",
   "execution_count": null,
   "id": "80984971",
   "metadata": {},
   "outputs": [],
   "source": [
    "# Given a signed 32-bit integer x, return x with its digits reversed. If reversing x causes the value to go outside the signed 32-bit integer range [-231, 231 - 1], then return 0.\n",
    "# Assume the environment does not allow you to store 64-bit integers (signed or unsigned)."
   ]
  },
  {
   "cell_type": "code",
   "execution_count": 12,
   "id": "c43ca8d0",
   "metadata": {},
   "outputs": [],
   "source": [
    "def reverse(x):\n",
    "    b= list(str(x))[::-1]\n",
    "    if b[len(b)-1]==\"-\": \n",
    "        a= int(\"\".join(b[:len(b)-1]))*(-1)\n",
    "    else:\n",
    "        a= int(\"\".join(b))\n",
    "    if a< -2**31 or a> (2**31 - 1):\n",
    "        return 0\n",
    "    else: \n",
    "        return a \n",
    "       "
   ]
  },
  {
   "cell_type": "code",
   "execution_count": 14,
   "id": "becaae92",
   "metadata": {},
   "outputs": [
    {
     "data": {
      "text/plain": [
       "-377"
      ]
     },
     "execution_count": 14,
     "metadata": {},
     "output_type": "execute_result"
    }
   ],
   "source": [
    "reverse(-773)"
   ]
  }
 ],
 "metadata": {
  "kernelspec": {
   "display_name": "Python 3 (ipykernel)",
   "language": "python",
   "name": "python3"
  },
  "language_info": {
   "codemirror_mode": {
    "name": "ipython",
    "version": 3
   },
   "file_extension": ".py",
   "mimetype": "text/x-python",
   "name": "python",
   "nbconvert_exporter": "python",
   "pygments_lexer": "ipython3",
   "version": "3.11.5"
  }
 },
 "nbformat": 4,
 "nbformat_minor": 5
}
