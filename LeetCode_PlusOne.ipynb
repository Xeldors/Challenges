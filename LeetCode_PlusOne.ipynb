{
 "cells": [
  {
   "cell_type": "markdown",
   "id": "ff214252-d105-4b07-831b-cb19a2df7f70",
   "metadata": {},
   "source": [
    "Plus One: \n",
    "You are given a large integer represented as an integer array digits, where each digits[i] is the ith digit of the integer. The digits are ordered from most significant to least significant in left-to-right order. The large integer does not contain any leading 0's."
   ]
  },
  {
   "cell_type": "code",
   "execution_count": 2,
   "id": "2329a6ff-2a84-4ccf-8af7-dfabf51f1b91",
   "metadata": {},
   "outputs": [],
   "source": [
    "def plusOne(digits):\n",
    "    digits2=[str(i) for i in digits]\n",
    "    return [int(i) for i in str(int(\"\".join(digits2))+1)]"
   ]
  },
  {
   "cell_type": "code",
   "execution_count": 7,
   "id": "750fa514-de1b-4a87-b078-c65b522a7fb8",
   "metadata": {},
   "outputs": [
    {
     "data": {
      "text/plain": [
       "[5, 5, 6, 0]"
      ]
     },
     "execution_count": 7,
     "metadata": {},
     "output_type": "execute_result"
    }
   ],
   "source": [
    "plusOne([5,5,5,9])"
   ]
  }
 ],
 "metadata": {
  "kernelspec": {
   "display_name": "Python 3 (ipykernel)",
   "language": "python",
   "name": "python3"
  },
  "language_info": {
   "codemirror_mode": {
    "name": "ipython",
    "version": 3
   },
   "file_extension": ".py",
   "mimetype": "text/x-python",
   "name": "python",
   "nbconvert_exporter": "python",
   "pygments_lexer": "ipython3",
   "version": "3.10.15"
  }
 },
 "nbformat": 4,
 "nbformat_minor": 5
}
