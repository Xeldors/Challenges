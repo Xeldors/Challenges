{
 "cells": [
  {
   "cell_type": "code",
   "execution_count": 1,
   "id": "3e66c3cf",
   "metadata": {},
   "outputs": [],
   "source": [
    "###Question: \n",
    "#1 Find the lattice points of circle with center (O,0) and given radius\n"
   ]
  },
  {
   "cell_type": "code",
   "execution_count": 2,
   "id": "1c0ac3f9",
   "metadata": {},
   "outputs": [],
   "source": [
    "radius=10"
   ]
  },
  {
   "cell_type": "code",
   "execution_count": 3,
   "id": "a41c0c57",
   "metadata": {},
   "outputs": [
    {
     "data": {
      "text/plain": [
       "[[2, 0], [-2, 0], [0, 2], [0, -2]]"
      ]
     },
     "execution_count": 3,
     "metadata": {},
     "output_type": "execute_result"
    }
   ],
   "source": [
    "##Find Lattice Points \n",
    "radius=2\n",
    "\n",
    "x=list(range(-radius,radius+1))\n",
    "y=list(range(-radius,radius+1))\n",
    "\n",
    "Lattice=[]\n",
    "for i in x: \n",
    "    for j in y: \n",
    "        if (x[i]**2 + y[j]**2) == radius**2: \n",
    "            LatticePoint=[x[i],y[j]]\n",
    "            Lattice.append(LatticePoint)\n",
    "\n",
    "Lattice"
   ]
  },
  {
   "cell_type": "code",
   "execution_count": 4,
   "id": "30c3bca5",
   "metadata": {},
   "outputs": [
    {
     "data": {
      "text/plain": [
       "[[4, 3], [2, 3], [3, 4], [3, 2]]"
      ]
     },
     "execution_count": 4,
     "metadata": {},
     "output_type": "execute_result"
    }
   ],
   "source": [
    "###Question: \n",
    "#2 Find the lattice points of circle with give center (x,y) and given radius\n",
    "\n",
    "x_center=3\n",
    "y_center=3\n",
    "radius=1\n",
    "\n",
    "\n",
    "Lattice=[]\n",
    "for i in x: \n",
    "    for j in y: \n",
    "        if (x[i]**2 + y[j]**2) == radius**2: \n",
    "            LatticePoint=[x[i]+x_center,y[j]+y_center]\n",
    "            Lattice.append(LatticePoint)\n",
    "\n",
    "Lattice"
   ]
  }
 ],
 "metadata": {
  "kernelspec": {
   "display_name": "Python 3 (ipykernel)",
   "language": "python",
   "name": "python3"
  },
  "language_info": {
   "codemirror_mode": {
    "name": "ipython",
    "version": 3
   },
   "file_extension": ".py",
   "mimetype": "text/x-python",
   "name": "python",
   "nbconvert_exporter": "python",
   "pygments_lexer": "ipython3",
   "version": "3.11.5"
  }
 },
 "nbformat": 4,
 "nbformat_minor": 5
}
