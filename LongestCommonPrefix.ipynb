{
 "cells": [
  {
   "cell_type": "markdown",
   "id": "c6201193-db0a-42c9-8834-bafd15a9d3a2",
   "metadata": {},
   "source": [
    "$$\n",
    "\\large\\textbf{LeetCode: Longest Common Prefix}\n",
    "$$\n",
    "\n",
    "$$\n",
    "\\text{Write a function to find the longest common prefix string amongst an array of strings.\n",
    "If there is no common prefix, return an empty string \"\"}\n",
    "$$"
   ]
  },
  {
   "cell_type": "code",
   "execution_count": 1,
   "id": "7421ee58-0919-42ee-8c20-5b6a8a8f5976",
   "metadata": {},
   "outputs": [],
   "source": [
    "def longestCommonPrefix(strs):\n",
    "    if not strs: \n",
    "        return \"\"\n",
    "    \n",
    "    lists=[list(i) for i in strs]\n",
    "    lens=[ len(i) for i in lists]\n",
    "    minima=min(lens)\n",
    "    pos=0\n",
    "    common=[]\n",
    "    while pos < minima: \n",
    "            # Collect characters at the current position from each string\n",
    "        value = [i[pos] for i in lists]\n",
    "            \n",
    "            # Check if all characters in `value` are the same\n",
    "        if len(set(value)) == 1:\n",
    "            common.append(value[0])\n",
    "            pos += 1\n",
    "        else:\n",
    "                # Exit loop if characters differ\n",
    "            break\n",
    "    \n",
    "    return \"\".join(common)\n",
    "    "
   ]
  },
  {
   "cell_type": "code",
   "execution_count": 2,
   "id": "1a15c8fc-0ee5-4ae0-a0bb-9a03d066109e",
   "metadata": {},
   "outputs": [
    {
     "data": {
      "text/plain": [
       "'fl'"
      ]
     },
     "execution_count": 2,
     "metadata": {},
     "output_type": "execute_result"
    }
   ],
   "source": [
    "longestCommonPrefix([\"flower\",\"flow\",\"flight\"])"
   ]
  },
  {
   "cell_type": "code",
   "execution_count": 3,
   "id": "5267697f-5f1f-4c39-abc7-2af3807b4e9d",
   "metadata": {},
   "outputs": [
    {
     "data": {
      "text/plain": [
       "'alba'"
      ]
     },
     "execution_count": 3,
     "metadata": {},
     "output_type": "execute_result"
    }
   ],
   "source": [
    "longestCommonPrefix([\"albabala\",\"albacus\",\"albando\"])\n",
    "\n"
   ]
  }
 ],
 "metadata": {
  "kernelspec": {
   "display_name": "Python 3 (ipykernel)",
   "language": "python",
   "name": "python3"
  },
  "language_info": {
   "codemirror_mode": {
    "name": "ipython",
    "version": 3
   },
   "file_extension": ".py",
   "mimetype": "text/x-python",
   "name": "python",
   "nbconvert_exporter": "python",
   "pygments_lexer": "ipython3",
   "version": "3.10.15"
  }
 },
 "nbformat": 4,
 "nbformat_minor": 5
}
