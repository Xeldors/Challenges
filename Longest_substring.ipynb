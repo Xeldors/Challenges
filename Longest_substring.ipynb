{
 "cells": [
  {
   "cell_type": "markdown",
   "id": "e99c856d",
   "metadata": {},
   "source": [
    "**Question**\n",
    "Given a string s, find the length of the longest substring without repeating characters.\n",
    "\n",
    " \n",
    "\n",
    "Example 1:\n",
    "\n",
    "Input: s = \"abcabcbb\"\n",
    "Output: 3\n",
    "Explanation: The answer is \"abc\", with the length of 3."
   ]
  },
  {
   "cell_type": "code",
   "execution_count": 1,
   "id": "c0144681",
   "metadata": {},
   "outputs": [],
   "source": [
    "def longest_substring(x):\n",
    "\n",
    "    s = list(x)\n",
    "    p1 = 0\n",
    "    p2 = 0\n",
    "    max_len = 0\n",
    "    unique_chars = set()\n",
    "\n",
    "    while p2 < len(s):\n",
    "        if s[p2] not in unique_chars:\n",
    "            unique_chars.add(s[p2])\n",
    "            p2 += 1\n",
    "            max_len = max(max_len, len(unique_chars))\n",
    "        else:\n",
    "            unique_chars.remove(s[p1])\n",
    "    return max_len\n",
    "\n"
   ]
  },
  {
   "cell_type": "code",
   "execution_count": 2,
   "id": "18baa504",
   "metadata": {},
   "outputs": [
    {
     "data": {
      "text/plain": [
       "5"
      ]
     },
     "execution_count": 2,
     "metadata": {},
     "output_type": "execute_result"
    }
   ],
   "source": [
    "longest_substring(\"aaaabaaacde\")\n"
   ]
  },
  {
   "cell_type": "code",
   "execution_count": 3,
   "id": "44c79da7",
   "metadata": {},
   "outputs": [
    {
     "data": {
      "text/plain": [
       "1"
      ]
     },
     "execution_count": 3,
     "metadata": {},
     "output_type": "execute_result"
    }
   ],
   "source": [
    "longest_substring(\"BBBB\")\n"
   ]
  },
  {
   "cell_type": "code",
   "execution_count": 4,
   "id": "dfb0c062",
   "metadata": {},
   "outputs": [
    {
     "data": {
      "text/plain": [
       "2"
      ]
     },
     "execution_count": 4,
     "metadata": {},
     "output_type": "execute_result"
    }
   ],
   "source": [
    "longest_substring(\"aoaa\")\n"
   ]
  }
 ],
 "metadata": {
  "kernelspec": {
   "display_name": "Python 3 (ipykernel)",
   "language": "python",
   "name": "python3"
  },
  "language_info": {
   "codemirror_mode": {
    "name": "ipython",
    "version": 3
   },
   "file_extension": ".py",
   "mimetype": "text/x-python",
   "name": "python",
   "nbconvert_exporter": "python",
   "pygments_lexer": "ipython3",
   "version": "3.11.5"
  }
 },
 "nbformat": 4,
 "nbformat_minor": 5
}
