{
 "cells": [
  {
   "cell_type": "markdown",
   "id": "c6201193-db0a-42c9-8834-bafd15a9d3a2",
   "metadata": {},
   "source": [
    "$$\n",
    "\\large\\textbf{LeetCode: Maximum SubArray}\n",
    "$$\n",
    "\n",
    "$$\n",
    "\\text{Given an integer array nums, find the subarray with the largest sum, and return its sum.}\n",
    "$$"
   ]
  },
  {
   "cell_type": "code",
   "execution_count": 2,
   "id": "7421ee58-0919-42ee-8c20-5b6a8a8f5976",
   "metadata": {},
   "outputs": [],
   "source": [
    "def maxSubArray(nums):\n",
    "\n",
    "    current_max = nums[0]\n",
    "    global_max = nums[0]\n",
    "\n",
    "    for i in range(1, len(nums)):\n",
    "        current_max = max(nums[i], current_max + nums[i])\n",
    "        global_max = max(global_max, current_max)\n",
    "\n",
    "    return global_max"
   ]
  },
  {
   "cell_type": "code",
   "execution_count": 7,
   "id": "1a15c8fc-0ee5-4ae0-a0bb-9a03d066109e",
   "metadata": {},
   "outputs": [
    {
     "data": {
      "text/plain": [
       "499500"
      ]
     },
     "execution_count": 7,
     "metadata": {},
     "output_type": "execute_result"
    }
   ],
   "source": [
    "maxSubArray(list(range(0,1000)))"
   ]
  },
  {
   "cell_type": "code",
   "execution_count": 8,
   "id": "5267697f-5f1f-4c39-abc7-2af3807b4e9d",
   "metadata": {},
   "outputs": [
    {
     "data": {
      "text/plain": [
       "166833"
      ]
     },
     "execution_count": 8,
     "metadata": {},
     "output_type": "execute_result"
    }
   ],
   "source": [
    "maxSubArray(list(range(-999,1000,3)))"
   ]
  },
  {
   "cell_type": "code",
   "execution_count": 11,
   "id": "2c9f56d0-0c0e-4dc5-a94a-3ecb1b8e216c",
   "metadata": {},
   "outputs": [
    {
     "data": {
      "text/plain": [
       "0"
      ]
     },
     "execution_count": 11,
     "metadata": {},
     "output_type": "execute_result"
    }
   ],
   "source": [
    "maxSubArray(list(range(-999,3,3)))"
   ]
  }
 ],
 "metadata": {
  "kernelspec": {
   "display_name": "Python 3 (ipykernel)",
   "language": "python",
   "name": "python3"
  },
  "language_info": {
   "codemirror_mode": {
    "name": "ipython",
    "version": 3
   },
   "file_extension": ".py",
   "mimetype": "text/x-python",
   "name": "python",
   "nbconvert_exporter": "python",
   "pygments_lexer": "ipython3",
   "version": "3.11.5"
  }
 },
 "nbformat": 4,
 "nbformat_minor": 5
}
